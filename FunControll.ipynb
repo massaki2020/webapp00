{
  "nbformat": 4,
  "nbformat_minor": 0,
  "metadata": {
    "colab": {
      "provenance": [],
      "include_colab_link": true
    },
    "kernelspec": {
      "name": "python3",
      "display_name": "Python 3"
    },
    "language_info": {
      "name": "python"
    }
  },
  "cells": [
    {
      "cell_type": "markdown",
      "metadata": {
        "id": "view-in-github",
        "colab_type": "text"
      },
      "source": [
        "<a href=\"https://colab.research.google.com/github/lupaes01/webapp00/blob/main/FunControll.ipynb\" target=\"_parent\"><img src=\"https://colab.research.google.com/assets/colab-badge.svg\" alt=\"Open In Colab\"/></a>"
      ]
    },
    {
      "cell_type": "code",
      "source": [
        "import streamlit as st"
      ],
      "metadata": {
        "colab": {
          "base_uri": "https://localhost:8080/"
        },
        "id": "ata2we0u1qEp",
        "outputId": "683478a0-22be-436c-e366-9acaaf4124b8"
      },
      "execution_count": null,
      "outputs": [
        {
          "output_type": "stream",
          "name": "stderr",
          "text": [
            "INFO:numexpr.utils:NumExpr defaulting to 2 threads.\n",
            "2022-09-21 11:37:46.458 INFO    numexpr.utils: NumExpr defaulting to 2 threads.\n"
          ]
        }
      ]
    },
    {
      "cell_type": "markdown",
      "source": [
        "###Página Inicial"
      ],
      "metadata": {
        "id": "WRGPqwXSuG0H"
      }
    },
    {
      "cell_type": "code",
      "source": [
        "print(\"Sobre a Nossa Plataforma\")"
      ],
      "metadata": {
        "colab": {
          "base_uri": "https://localhost:8080/"
        },
        "id": "CAZqK3ymGWKV",
        "outputId": "3d6cc12f-c4f0-446e-d82c-d16822186ede"
      },
      "execution_count": null,
      "outputs": [
        {
          "output_type": "stream",
          "name": "stdout",
          "text": [
            "Sobre a Nossa Plataforma\n"
          ]
        }
      ]
    },
    {
      "cell_type": "code",
      "source": [
        "print(\"Nós somos uma plataforma que disponibiliza funções para os gestores das empresas distribuírem as tarefas entre os colaboradores de maneira mais assertiva. Já os colaboradores, podem ver se estão sobrecarregados, a partir de uma maneira tecnológica de identificação. Além disso, disponibilizamos acesso de melhoria de qualidade de vida aos colaboradores, podem agendar sessões com terapeutas, psicólogos e selecionar funções para relaxar, como meditações. \")"
      ],
      "metadata": {
        "colab": {
          "base_uri": "https://localhost:8080/"
        },
        "id": "HnPfi7wiGlm-",
        "outputId": "5e0ad52b-7ee4-4390-f07b-e94b7963dab0"
      },
      "execution_count": null,
      "outputs": [
        {
          "output_type": "stream",
          "name": "stdout",
          "text": [
            "Nós somos uma plataforma que disponibiliza funções para os gestores das empresas distribuírem as tarefas entre os colaboradores de maneira mais assertiva. Já os colaboradores, podem ver se estão sobrecarregados, a partir de uma maneira tecnológica de identificação. Além disso, disponibilizamos acesso de melhoria de qualidade de vida aos colaboradores, podem agendar sessões com terapeutas, psicólogos e selecionar funções para relaxar, como meditações. \n"
          ]
        }
      ]
    },
    {
      "cell_type": "markdown",
      "source": [
        "###Como funciona"
      ],
      "metadata": {
        "id": "-bho2ByvG6iS"
      }
    },
    {
      "cell_type": "code",
      "source": [
        "print(\"Gestores: Realizam o cadastro na plataforma.\")\n",
        "print(\"Colaboradores: Passam a ter acesso com o código liberado ao gestor.\")\n",
        "print(\"Gestores e colaboradores: Usufruem de  todas as funcionalidades da plataforma.\")"
      ],
      "metadata": {
        "colab": {
          "base_uri": "https://localhost:8080/"
        },
        "id": "yzSaJeHCHBce",
        "outputId": "987ffe23-ffca-486d-d36f-11e106374bc6"
      },
      "execution_count": null,
      "outputs": [
        {
          "output_type": "stream",
          "name": "stdout",
          "text": [
            "Gestores: Realizam o cadastro na plataforma.\n",
            "Colaboradores: Passam a ter acesso com o código liberado ao gestor.\n",
            "Gestores e colaboradores: Usufruem de  todas as funcionalidades da plataforma.\n"
          ]
        }
      ]
    },
    {
      "cell_type": "markdown",
      "source": [
        "###Comentários"
      ],
      "metadata": {
        "id": "9j1CU1JDJy1G"
      }
    },
    {
      "cell_type": "code",
      "source": [
        "print(\"O que nossos clientes dizem\")"
      ],
      "metadata": {
        "id": "8P4Es9DTJ1ok",
        "colab": {
          "base_uri": "https://localhost:8080/"
        },
        "outputId": "29785c24-bf38-4026-f480-8bd81519db14"
      },
      "execution_count": null,
      "outputs": [
        {
          "output_type": "stream",
          "name": "stdout",
          "text": [
            "O que nossos clientes dizem\n"
          ]
        }
      ]
    },
    {
      "cell_type": "code",
      "source": [
        "def exibir_dados(nome, comentario):\n",
        "  print(\"Nome: {} \".format(nome))\n",
        "  print(\"Comentário: {}\".format(comentario))"
      ],
      "metadata": {
        "id": "4QFr90fnJ-P3"
      },
      "execution_count": null,
      "outputs": []
    },
    {
      "cell_type": "code",
      "source": [
        "exibir_dados('Laura Gurgel', \"A empresa júnior em que sou presidente estava com dificuldade em distribuir tarefas, mas o FunControll foi muito bom para atender essa necessidade. Hoje os membros estão mais motivados. \")"
      ],
      "metadata": {
        "colab": {
          "base_uri": "https://localhost:8080/"
        },
        "id": "vGAq_SMlKUnf",
        "outputId": "2b946eb9-fe94-4a1a-afcb-2c7e809da239"
      },
      "execution_count": null,
      "outputs": [
        {
          "output_type": "stream",
          "name": "stdout",
          "text": [
            "Nome: Laura Gurgel \n",
            "Comentário: A empresa júnior em que sou presidente estava com dificuldade em distribuir tarefas, mas o FunControll foi muito bom para atender essa necessidade. Hoje os membros estão mais motivados. \n"
          ]
        }
      ]
    },
    {
      "cell_type": "code",
      "source": [
        "print(\"Escreva um comentário\")\n",
        "nome = (input(\"Nome Completo: \"))\n",
        "email = (input(\"Email:\"))\n",
        "comentario = (input(\"Escreva seu comentário: \"))"
      ],
      "metadata": {
        "colab": {
          "base_uri": "https://localhost:8080/"
        },
        "id": "68Z1eF_kKPWG",
        "outputId": "dfeb4a02-9011-467c-9e41-0dcbdc65a6a6"
      },
      "execution_count": null,
      "outputs": [
        {
          "name": "stdout",
          "output_type": "stream",
          "text": [
            "Escreva um comentário\n",
            "Nome Completo: Luana Paes\n",
            "Email:32000383@mackenzista.com.br\n",
            "Escreva seu comentário: A plataforma FunControll foi excelente para o planejamento das minhas tarefas durante meu período de estágio\n"
          ]
        }
      ]
    },
    {
      "cell_type": "markdown",
      "source": [
        "###Nosso serviço"
      ],
      "metadata": {
        "id": "qvMcLIInN0I-"
      }
    },
    {
      "cell_type": "code",
      "source": [
        "print(\"Entenda melhor quais são as funcionalidades que você pode encontrar em nossa plataforma.\")"
      ],
      "metadata": {
        "id": "eOHDsFfpN5e1",
        "colab": {
          "base_uri": "https://localhost:8080/"
        },
        "outputId": "758a94cc-b62d-428e-8e30-1fb8d3faab06"
      },
      "execution_count": null,
      "outputs": [
        {
          "output_type": "stream",
          "name": "stdout",
          "text": [
            "Entenda melhor quais são as funcionalidades que você pode encontrar em nossa plataforma.\n"
          ]
        }
      ]
    },
    {
      "cell_type": "code",
      "source": [
        "funçao = 'Planner de tarefas', 'Meditação', 'Receita de remedios naturais', 'Psicólogos'\n",
        "funçao"
      ],
      "metadata": {
        "colab": {
          "base_uri": "https://localhost:8080/"
        },
        "id": "7sLmw9QsOeCG",
        "outputId": "9ccffd89-9768-4d07-f3e2-b32a5125f959"
      },
      "execution_count": null,
      "outputs": [
        {
          "output_type": "execute_result",
          "data": {
            "text/plain": [
              "('Planner de tarefas',\n",
              " 'Meditação',\n",
              " 'Receita de remedios naturais',\n",
              " 'Psicólogos')"
            ]
          },
          "metadata": {},
          "execution_count": 8
        }
      ]
    },
    {
      "cell_type": "markdown",
      "source": [
        ">Sendo:\n",
        "x=0: Planner de Tarefas\n",
        "x=1: Meditação\n",
        "x=2: Receita de remedios naturais\n",
        "x=3: Psicólogos"
      ],
      "metadata": {
        "id": "s5I1CQGiROEm"
      }
    },
    {
      "cell_type": "code",
      "source": [
        "x = 3\n",
        "if x == 0:\n",
        "  print(funçao [0] +\": Baseado nas tarefas e disponibilidades dos colaboradores, é gerado um planner com a melhor distribuição de funções.\")\n",
        "elif x == 1:\n",
        "  print(funçao [1] +\": Para os colaboradores que se sentirem sobrecarregados, ficará disponível técnicas de meditação para ajudar.\")\n",
        "elif x == 2:\n",
        "  print(funçao [2] +\": Será disponibilizado receita de remédios naturais para ajudar no relaxamento da ansiedade ou estresse.\")\n",
        "else:\n",
        "  print(funçao[3] +\": Para os colaboradores que desejarem, será oferecido sugestões de psicólogos online.\")"
      ],
      "metadata": {
        "colab": {
          "base_uri": "https://localhost:8080/"
        },
        "id": "bssix2qlPaxV",
        "outputId": "2c3ab87a-2fce-4118-9f7f-19c8fa5e7474"
      },
      "execution_count": null,
      "outputs": [
        {
          "output_type": "stream",
          "name": "stdout",
          "text": [
            "Psicólogos: Para os colaboradores que desejarem, será oferecido sugestões de psicólogos online.\n"
          ]
        }
      ]
    },
    {
      "cell_type": "markdown",
      "source": [
        "###Cadastro"
      ],
      "metadata": {
        "id": "xLYZtq5HRsbU"
      }
    },
    {
      "cell_type": "code",
      "source": [
        "print(\"Cadastro da Empresa\")"
      ],
      "metadata": {
        "id": "vqcR_jtRRx_g",
        "colab": {
          "base_uri": "https://localhost:8080/"
        },
        "outputId": "edfdd410-7008-4e9e-9147-1f79a964f35b"
      },
      "execution_count": null,
      "outputs": [
        {
          "output_type": "stream",
          "name": "stdout",
          "text": [
            "Cadastro da Empresa\n"
          ]
        }
      ]
    },
    {
      "cell_type": "code",
      "source": [
        "def empresa(nome, setor, quantidade):\n",
        "  print(\"Nome da empresa: {}\".format(nome))\n",
        "  print(\"Setor da empresa: {}\".format(setor))\n",
        "  print(\"Quantidade de colaboradores: {}\".format(quantidade))"
      ],
      "metadata": {
        "id": "fOEThczgR2GC"
      },
      "execution_count": null,
      "outputs": []
    },
    {
      "cell_type": "code",
      "source": [
        "empresa('Free Hobby', 'Logistica', 100)"
      ],
      "metadata": {
        "colab": {
          "base_uri": "https://localhost:8080/"
        },
        "id": "AwHQBjuwWMR0",
        "outputId": "6239d6b5-cd09-449d-dd24-799f9f4e4bf6"
      },
      "execution_count": null,
      "outputs": [
        {
          "output_type": "stream",
          "name": "stdout",
          "text": [
            "Nome da empresa: Free Hobby\n",
            "Setor da empresa: Logistica\n",
            "Quantidade de colaboradores: 100\n"
          ]
        }
      ]
    },
    {
      "cell_type": "markdown",
      "source": [
        ">Planos"
      ],
      "metadata": {
        "id": "6LGucJYwW9xe"
      }
    },
    {
      "cell_type": "code",
      "source": [
        "basico = [\"Plano Básico:\", \"Plano até 30 colaboradores\", \"Acesso limitado aos recursos de meditação\", \"Acesso limitado aos recursos de receitas de remédios naturais\", \"Recomendações de lojas de produtos naturais\", \"R$ xx,00\"]"
      ],
      "metadata": {
        "id": "E4KEaU9nW_3O"
      },
      "execution_count": null,
      "outputs": []
    },
    {
      "cell_type": "code",
      "source": [
        "for cada_item in basico:\n",
        "  print(cada_item)"
      ],
      "metadata": {
        "colab": {
          "base_uri": "https://localhost:8080/"
        },
        "id": "t11V_gjjXzQ2",
        "outputId": "878d57a7-1e0b-4d9d-b33c-6dc644baa631"
      },
      "execution_count": null,
      "outputs": [
        {
          "output_type": "stream",
          "name": "stdout",
          "text": [
            "Plano Básico:\n",
            "Plano até 30 colaboradores\n",
            "Acesso limitado aos recursos de meditação\n",
            "Acesso limitado aos recursos de receitas de remédios naturais\n",
            "Recomendações de lojas de produtos naturais\n",
            "R$ xx,00\n"
          ]
        }
      ]
    },
    {
      "cell_type": "code",
      "source": [
        "premium= [\"Plano Premium\", \"Plano ilimitado\", \"Acesso ilimitado aos recursos de meditação e receitas de remédios naturais\", \"Cupons de desconto em lojas de produtos naturais\", \"Acesso ao recurso de psicólogos\", \"R$ xx,00\"]"
      ],
      "metadata": {
        "id": "dgcXLnMpX53F"
      },
      "execution_count": null,
      "outputs": []
    },
    {
      "cell_type": "code",
      "source": [
        "for cada_item in premium:\n",
        "  print(cada_item)"
      ],
      "metadata": {
        "colab": {
          "base_uri": "https://localhost:8080/"
        },
        "id": "BbGF6HW3YUnd",
        "outputId": "34665c26-f15d-43c4-b8f8-928afdbeab48"
      },
      "execution_count": null,
      "outputs": [
        {
          "output_type": "stream",
          "name": "stdout",
          "text": [
            "Plano Premium\n",
            "Plano ilimitado\n",
            "Acesso ilimitado aos recursos de meditação e receitas de remédios naturais\n",
            "Cupons de desconto em lojas de produtos naturais\n",
            "Acesso ao recurso de psicólogos\n",
            "R$ xx,00\n"
          ]
        }
      ]
    },
    {
      "cell_type": "markdown",
      "source": [
        ">Formas de pagamento"
      ],
      "metadata": {
        "id": "-0BgkiPKY5BX"
      }
    },
    {
      "cell_type": "code",
      "source": [
        "print(\"Formas de Pagamento\")"
      ],
      "metadata": {
        "id": "feExtNG4ZBfj",
        "colab": {
          "base_uri": "https://localhost:8080/"
        },
        "outputId": "f9bee4ce-a3f4-40d7-affd-f38964bfb7ff"
      },
      "execution_count": null,
      "outputs": [
        {
          "output_type": "stream",
          "name": "stdout",
          "text": [
            "Formas de Pagamento\n"
          ]
        }
      ]
    },
    {
      "cell_type": "markdown",
      "source": [
        ">FAZER OPÇÕES DE PLANOS E PAGAMENTO"
      ],
      "metadata": {
        "id": "u1TpB-IiaGjD"
      }
    }
  ]
}